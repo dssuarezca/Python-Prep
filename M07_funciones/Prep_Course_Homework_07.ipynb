{
 "cells": [
  {
   "attachments": {},
   "cell_type": "markdown",
   "metadata": {},
   "source": [
    "## Funciones"
   ]
  },
  {
   "attachments": {},
   "cell_type": "markdown",
   "metadata": {},
   "source": [
    "1) Crear una función que reciba un número como parámetro y devuelva True si es primo y False si no lo es"
   ]
  },
  {
   "cell_type": "code",
   "execution_count": 19,
   "metadata": {},
   "outputs": [
    {
     "data": {
      "text/plain": [
       "False"
      ]
     },
     "execution_count": 19,
     "metadata": {},
     "output_type": "execute_result"
    }
   ],
   "source": [
    "def primo(n):\n",
    "        m=n\n",
    "        if(m==0):\n",
    "            return False\n",
    "        if(m==1):\n",
    "            return False\n",
    "        if(m==2):\n",
    "            return True\n",
    "        else:\n",
    "            cont=0\n",
    "            while(m>0):\n",
    "                    \n",
    "                    if((m!=n)&(m!=1)):\n",
    "                        if(n%m==0):\n",
    "                            cont=1\n",
    "                            \n",
    "                        \n",
    "                            \n",
    "                        \n",
    "                            \n",
    "                    m-=1\n",
    "            if(cont==0):\n",
    "                            return True\n",
    "            else:\n",
    "                  return False\n",
    "primo(9)"
   ]
  },
  {
   "attachments": {},
   "cell_type": "markdown",
   "metadata": {},
   "source": [
    "2) Utilizando la función del punto 1, realizar otra función que reciba de parámetro una lista de números y devuelva sólo aquellos que son primos en otra lista"
   ]
  },
  {
   "cell_type": "code",
   "execution_count": 37,
   "metadata": {},
   "outputs": [
    {
     "data": {
      "text/plain": [
       "[43]"
      ]
     },
     "execution_count": 37,
     "metadata": {},
     "output_type": "execute_result"
    }
   ],
   "source": [
    "def listanumeros(lista):\n",
    "    listaprimos=[]\n",
    "    for i, e in enumerate(lista):\n",
    "        if ((primo(lista[i])) is True):\n",
    "            listaprimos.append(lista[i])\n",
    "    return listaprimos\n",
    "\n",
    "\n",
    "listanumeros([43,36,34,78])"
   ]
  },
  {
   "attachments": {},
   "cell_type": "markdown",
   "metadata": {},
   "source": [
    "3) Crear una función que al recibir una lista de números, devuelva el que más se repite y cuántas veces lo hace. Si hay más de un \"más repetido\", que devuelva cualquiera"
   ]
  },
  {
   "cell_type": "code",
   "execution_count": 114,
   "metadata": {},
   "outputs": [
    {
     "data": {
      "text/plain": [
       "(1, 2)"
      ]
     },
     "execution_count": 114,
     "metadata": {},
     "output_type": "execute_result"
    }
   ],
   "source": [
    "def numerosrepetidos(lista_numeros):\n",
    "   mayor=0\n",
    "   cont=0\n",
    "   for i, e in enumerate(lista_numeros):\n",
    "       if i<(len(lista_numeros))-1:\n",
    "            if lista_numeros.count(lista_numeros[i])>1:\n",
    "                cont=lista_numeros.count(lista_numeros[i])\n",
    "                mayor=lista_numeros.count(lista_numeros[i])\n",
    "                if mayor>lista_numeros.count(lista_numeros[i+1]):\n",
    "                    cont=lista_numeros.count(lista_numeros[i])\n",
    "                    mayor=lista_numeros[i]\n",
    "                else:\n",
    "                    cont=lista_numeros.count(lista_numeros[i+1])\n",
    "                    mayor=lista_numeros[i+1]\n",
    "    \n",
    "   return mayor, cont\n",
    "  \n",
    "   \n",
    "       \n",
    "numerosrepetidos([1,2,4,4,5,2,5,1,0])    "
   ]
  },
  {
   "attachments": {},
   "cell_type": "markdown",
   "metadata": {},
   "source": [
    "4) Crear una función que convierta entre grados Celsius, Farenheit y Kelvin<br>\n",
    "Fórmula 1\t: (°C × 9/5) + 32 = °F<br>\n",
    "Fórmula 2\t: °C + 273.15 = °K<br>\n",
    "Debe recibir 3 parámetros: el valor, la medida de orígen y la medida de destino\n"
   ]
  },
  {
   "cell_type": "code",
   "execution_count": null,
   "metadata": {},
   "outputs": [],
   "source": [
    "def conversion"
   ]
  },
  {
   "attachments": {},
   "cell_type": "markdown",
   "metadata": {},
   "source": [
    "5) Iterando una lista con los tres valores posibles de temperatura que recibe la función del punto 5, hacer un print para cada combinación de los mismos:"
   ]
  },
  {
   "cell_type": "code",
   "execution_count": null,
   "metadata": {},
   "outputs": [],
   "source": []
  },
  {
   "attachments": {},
   "cell_type": "markdown",
   "metadata": {},
   "source": [
    "6) Armar una función que devuelva el factorial de un número. Tener en cuenta que el usuario puede equivocarse y enviar de parámetro un número no entero o negativo"
   ]
  },
  {
   "cell_type": "code",
   "execution_count": null,
   "metadata": {},
   "outputs": [],
   "source": []
  }
 ],
 "metadata": {
  "interpreter": {
   "hash": "c85384e4cb51c8b72350f3a8712cc8351fdc3955e32a27f9b60c6242ab125f01"
  },
  "kernelspec": {
   "display_name": "Python 3 (ipykernel)",
   "language": "python",
   "name": "python3"
  },
  "language_info": {
   "codemirror_mode": {
    "name": "ipython",
    "version": 3
   },
   "file_extension": ".py",
   "mimetype": "text/x-python",
   "name": "python",
   "nbconvert_exporter": "python",
   "pygments_lexer": "ipython3",
   "version": "3.11.4"
  }
 },
 "nbformat": 4,
 "nbformat_minor": 4
}
