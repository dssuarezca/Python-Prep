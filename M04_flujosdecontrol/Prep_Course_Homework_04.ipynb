{
 "cells": [
  {
   "attachments": {},
   "cell_type": "markdown",
   "metadata": {},
   "source": [
    "## Flujos de Control"
   ]
  },
  {
   "attachments": {},
   "cell_type": "markdown",
   "metadata": {},
   "source": [
    "1) Crear una variable que contenga un elemento del conjunto de números enteros y luego imprimir por pantalla si es mayor o menor a cero"
   ]
  },
  {
   "cell_type": "code",
   "execution_count": null,
   "metadata": {},
   "outputs": [],
   "source": [
    "x=-9\n",
    "if(x>0):\n",
    "    print(x)"
   ]
  },
  {
   "attachments": {},
   "cell_type": "markdown",
   "metadata": {},
   "source": [
    "2) Crear dos variables y un condicional que informe si son del mismo tipo de dato"
   ]
  },
  {
   "cell_type": "code",
   "execution_count": null,
   "metadata": {},
   "outputs": [],
   "source": [
    "x=897,12\n",
    "y=21,12\n",
    "if(type(y)==type(x)):\n",
    "    print(\"son los mismos datos\")"
   ]
  },
  {
   "attachments": {},
   "cell_type": "markdown",
   "metadata": {},
   "source": [
    "3) Para los valores enteros del 1 al 20, imprimir por pantalla si es par o impar"
   ]
  },
  {
   "cell_type": "code",
   "execution_count": null,
   "metadata": {},
   "outputs": [],
   "source": []
  },
  {
   "attachments": {},
   "cell_type": "markdown",
   "metadata": {},
   "source": [
    "4) En un ciclo for mostrar para los valores entre 0 y 5 el resultado de elevarlo a la potencia igual a 3"
   ]
  },
  {
   "cell_type": "code",
   "execution_count": null,
   "metadata": {},
   "outputs": [],
   "source": [
    "for n in range(0,5):\n",
    "    print(n**3)\n"
   ]
  },
  {
   "attachments": {},
   "cell_type": "markdown",
   "metadata": {},
   "source": [
    "5) Crear una variable que contenga un número entero y realizar un ciclo for la misma cantidad de ciclos"
   ]
  },
  {
   "cell_type": "code",
   "execution_count": null,
   "metadata": {},
   "outputs": [],
   "source": [
    "n=0\n",
    "for n in range(-4,n):\n",
    "    print(\"ciclo\",n+1)\n"
   ]
  },
  {
   "attachments": {},
   "cell_type": "markdown",
   "metadata": {},
   "source": [
    "6) Utilizar un ciclo while para realizar el factorial de un número guardado en una variable, sólo si la variable contiene un número entero mayor a 0"
   ]
  },
  {
   "cell_type": "code",
   "execution_count": null,
   "metadata": {},
   "outputs": [],
   "source": []
  },
  {
   "attachments": {},
   "cell_type": "markdown",
   "metadata": {},
   "source": [
    "7) Crear un ciclo for dentro de un ciclo while"
   ]
  },
  {
   "cell_type": "code",
   "execution_count": null,
   "metadata": {},
   "outputs": [],
   "source": []
  },
  {
   "attachments": {},
   "cell_type": "markdown",
   "metadata": {},
   "source": [
    "8) Crear un ciclo while dentro de un ciclo for"
   ]
  },
  {
   "cell_type": "code",
   "execution_count": null,
   "metadata": {},
   "outputs": [],
   "source": []
  },
  {
   "cell_type": "code",
   "execution_count": 4,
   "metadata": {},
   "outputs": [],
   "source": [
    "n=4\n",
    "for n in range(n,0):\n",
    "    print(n)\n",
    "    n-=1"
   ]
  },
  {
   "attachments": {},
   "cell_type": "markdown",
   "metadata": {},
   "source": [
    "9) Imprimir los números primos existentes entre 0 y 30"
   ]
  },
  {
   "cell_type": "code",
   "execution_count": 3,
   "metadata": {},
   "outputs": [
    {
     "name": "stdout",
     "output_type": "stream",
     "text": [
      "0\n",
      "1\n",
      "entro al while\n",
      "esto es m:  1\n",
      "este numero no es primo\n",
      "2\n",
      "entro al while\n",
      "esto es m:  2\n",
      "este numero no es primo\n",
      "3\n",
      "entro al while\n",
      "esto es m:  3\n",
      "este numero no es primo\n",
      "4\n",
      "entro al while\n",
      "esto es m:  4\n",
      "este numero no es primo\n",
      "5\n",
      "entro al while\n",
      "esto es m:  5\n",
      "este numero no es primo\n",
      "6\n",
      "entro al while\n",
      "esto es m:  6\n",
      "este numero no es primo\n",
      "7\n",
      "entro al while\n",
      "esto es m:  7\n",
      "este numero no es primo\n",
      "8\n",
      "entro al while\n",
      "esto es m:  8\n",
      "este numero no es primo\n",
      "9\n",
      "entro al while\n",
      "esto es m:  9\n",
      "este numero no es primo\n",
      "10\n",
      "entro al while\n",
      "esto es m:  10\n",
      "este numero no es primo\n",
      "11\n",
      "entro al while\n",
      "esto es m:  11\n",
      "este numero no es primo\n",
      "12\n",
      "entro al while\n",
      "esto es m:  12\n",
      "este numero no es primo\n",
      "13\n",
      "entro al while\n",
      "esto es m:  13\n",
      "este numero no es primo\n",
      "14\n",
      "entro al while\n",
      "esto es m:  14\n",
      "este numero no es primo\n",
      "15\n",
      "entro al while\n",
      "esto es m:  15\n",
      "este numero no es primo\n",
      "16\n",
      "entro al while\n",
      "esto es m:  16\n",
      "este numero no es primo\n",
      "17\n",
      "entro al while\n",
      "esto es m:  17\n",
      "este numero no es primo\n",
      "18\n",
      "entro al while\n",
      "esto es m:  18\n",
      "este numero no es primo\n",
      "19\n",
      "entro al while\n",
      "esto es m:  19\n",
      "este numero no es primo\n",
      "20\n",
      "entro al while\n",
      "esto es m:  20\n",
      "este numero no es primo\n",
      "21\n",
      "entro al while\n",
      "esto es m:  21\n",
      "este numero no es primo\n",
      "22\n",
      "entro al while\n",
      "esto es m:  22\n",
      "este numero no es primo\n",
      "23\n",
      "entro al while\n",
      "esto es m:  23\n",
      "este numero no es primo\n",
      "24\n",
      "entro al while\n",
      "esto es m:  24\n",
      "este numero no es primo\n",
      "25\n",
      "entro al while\n",
      "esto es m:  25\n",
      "este numero no es primo\n",
      "26\n",
      "entro al while\n",
      "esto es m:  26\n",
      "este numero no es primo\n",
      "27\n",
      "entro al while\n",
      "esto es m:  27\n",
      "este numero no es primo\n",
      "28\n",
      "entro al while\n",
      "esto es m:  28\n",
      "este numero no es primo\n",
      "29\n",
      "entro al while\n",
      "esto es m:  29\n",
      "este numero no es primo\n"
     ]
    }
   ],
   "source": [
    "\n",
    "for n in range(0,30):\n",
    "    print(n)\n",
    "    m=n\n",
    "    if(m==0):\n",
    "        print(\"este numero no es primo\")\n",
    "    else:\n",
    "        for m in range(m,1):\n",
    "                if(m!=n&m!=1):\n",
    "                 if(n%m==0):\n",
    "                    print(\"este numero no es primo\")\n",
    "                    break\n",
    "                \n",
    "                 elif(n%m!=0):\n",
    "                    print(\"este numero  es primo\")\n",
    "                m-=1\n",
    "       \n",
    "       "
   ]
  },
  {
   "attachments": {},
   "cell_type": "markdown",
   "metadata": {},
   "source": [
    "10) ¿Se puede mejorar el proceso del punto 9? Utilizar las sentencias break y/ó continue para tal fin"
   ]
  },
  {
   "cell_type": "code",
   "execution_count": null,
   "metadata": {},
   "outputs": [],
   "source": []
  },
  {
   "attachments": {},
   "cell_type": "markdown",
   "metadata": {},
   "source": [
    "11) En los puntos 9 y 10, se diseño un código que encuentra números primos y además se lo optimizó. ¿Es posible saber en qué medida se optimizó?"
   ]
  },
  {
   "cell_type": "code",
   "execution_count": null,
   "metadata": {},
   "outputs": [],
   "source": []
  },
  {
   "attachments": {},
   "cell_type": "markdown",
   "metadata": {},
   "source": [
    "12) Aplicando continue, armar un ciclo while que solo imprima los valores divisibles por 12, dentro del rango de números de 100 a 300"
   ]
  },
  {
   "cell_type": "code",
   "execution_count": null,
   "metadata": {},
   "outputs": [],
   "source": []
  },
  {
   "attachments": {},
   "cell_type": "markdown",
   "metadata": {},
   "source": [
    "13) Utilizar la función **input()** que permite hacer ingresos por teclado, para encontrar números primos y dar la opción al usario de buscar el siguiente"
   ]
  },
  {
   "cell_type": "code",
   "execution_count": null,
   "metadata": {},
   "outputs": [],
   "source": []
  },
  {
   "attachments": {},
   "cell_type": "markdown",
   "metadata": {},
   "source": [
    "14) Crear un ciclo while que encuentre dentro del rango de 100 a 300 el primer número divisible por 3 y además múltiplo de 6"
   ]
  },
  {
   "cell_type": "code",
   "execution_count": null,
   "metadata": {},
   "outputs": [],
   "source": []
  }
 ],
 "metadata": {
  "interpreter": {
   "hash": "c85384e4cb51c8b72350f3a8712cc8351fdc3955e32a27f9b60c6242ab125f01"
  },
  "kernelspec": {
   "display_name": "Python 3 (ipykernel)",
   "language": "python",
   "name": "python3"
  },
  "language_info": {
   "codemirror_mode": {
    "name": "ipython",
    "version": 3
   },
   "file_extension": ".py",
   "mimetype": "text/x-python",
   "name": "python",
   "nbconvert_exporter": "python",
   "pygments_lexer": "ipython3",
   "version": "3.11.4"
  }
 },
 "nbformat": 4,
 "nbformat_minor": 4
}
